{
 "cells": [
  {
   "cell_type": "markdown",
   "metadata": {},
   "source": [
    "## Resume"
   ]
  },
  {
   "cell_type": "code",
   "execution_count": 1,
   "metadata": {},
   "outputs": [],
   "source": [
    "import csv\n",
    "from time import sleep\n",
    "from getpass import getpass\n",
    "\n",
    "from selenium.webdriver import Chrome\n",
    "from selenium.webdriver.common.keys import Keys\n",
    "from selenium.common.exceptions import NoSuchElementException"
   ]
  },
  {
   "cell_type": "code",
   "execution_count": 2,
   "metadata": {},
   "outputs": [],
   "source": [
    "driver = Chrome()\n",
    "driver.get('https://www.twitter.com/login')\n",
    "driver.maximize_window()"
   ]
  },
  {
   "cell_type": "code",
   "execution_count": 3,
   "metadata": {},
   "outputs": [
    {
     "name": "stdout",
     "output_type": "stream",
     "text": [
      "········\n"
     ]
    }
   ],
   "source": [
    "username = driver.find_element_by_xpath('//input[@name=\"session[username_or_email]\"]')\n",
    "username.send_keys('cgomezloaiza@gmail.com')\n",
    "my_password = getpass()\n",
    "\n",
    "\n",
    "password = driver.find_element_by_xpath('//input[@name=\"session[password]\"]')\n",
    "password.send_keys(my_password)\n",
    "password.send_keys(Keys.RETURN)\n",
    "sleep(1)"
   ]
  },
  {
   "cell_type": "code",
   "execution_count": 4,
   "metadata": {},
   "outputs": [],
   "source": [
    "profile = 'BillGates'"
   ]
  },
  {
   "cell_type": "code",
   "execution_count": 5,
   "metadata": {},
   "outputs": [],
   "source": [
    "driver.get('https://www.twitter.com/'+ profile)"
   ]
  },
  {
   "cell_type": "code",
   "execution_count": 6,
   "metadata": {
    "scrolled": true
   },
   "outputs": [],
   "source": [
    "cards = driver.find_elements_by_xpath('//div[@data-testid=\"tweet\"]')"
   ]
  },
  {
   "cell_type": "code",
   "execution_count": 7,
   "metadata": {
    "scrolled": true
   },
   "outputs": [],
   "source": [
    "card = cards[0]"
   ]
  },
  {
   "cell_type": "code",
   "execution_count": 8,
   "metadata": {},
   "outputs": [
    {
     "data": {
      "text/plain": [
       "'Gates Foundation'"
      ]
     },
     "execution_count": 8,
     "metadata": {},
     "output_type": "execute_result"
    }
   ],
   "source": [
    "card.find_element_by_xpath('./div[2]/div[1]//span').text"
   ]
  },
  {
   "cell_type": "code",
   "execution_count": 9,
   "metadata": {},
   "outputs": [],
   "source": [
    "def get_tweet_data(card):\n",
    "    username = card.find_element_by_xpath('.//span').text\n",
    "    handle = card.find_element_by_xpath('.//span[contains(text(),\"@\")]').text\n",
    "    try:\n",
    "        postdate = card.find_element_by_xpath('.//time').get_attribute('datetime')\n",
    "    except NoSuchElementException:\n",
    "        return\n",
    "    comment = card.find_element_by_xpath('./div[2]/div[2]/div[1]').text\n",
    "    responding = card.find_element_by_xpath('./div[2]/div[2]/div[2]').text\n",
    "    text = comment + responding\n",
    "    \n",
    "    reply_cnt = card.find_element_by_xpath('.//div[@data-testid=\"reply\"]').text\n",
    "    retweet_cnt = card.find_element_by_xpath('.//div[@data-testid=\"retweet\"]').text\n",
    "    like_cnt = card.find_element_by_xpath('.//div[@data-testid=\"like\"]').text\n",
    "    \n",
    "    tweet = (username, handle, postdate, text, reply_cnt, retweet_cnt, like_cnt)\n",
    "    \n",
    "    return tweet"
   ]
  },
  {
   "cell_type": "code",
   "execution_count": 10,
   "metadata": {},
   "outputs": [
    {
     "data": {
      "text/plain": [
       "('Gates Foundation',\n",
       " '@gatesfoundation',\n",
       " '2021-05-06T23:39:37.000Z',\n",
       " 'As our CEO \\n@MSuzman\\n says, no barriers should stand in the way of equitable access to vaccines. We are supportive of a narrow intellectual property waiver for COVID-19 vaccines during the pandemic.Statement from Gates Foundation CEO Mark Suzman: No barriers should stand in the way of equitable...\\nThe foundation is supportive of a narrow IP waiver during the pandemic.\\ngatesfoundation.org',\n",
       " '2,3 mil',\n",
       " '651',\n",
       " '2,8 mil')"
      ]
     },
     "execution_count": 10,
     "metadata": {},
     "output_type": "execute_result"
    }
   ],
   "source": [
    "get_tweet_data(card)"
   ]
  },
  {
   "cell_type": "code",
   "execution_count": 11,
   "metadata": {},
   "outputs": [],
   "source": [
    "tweet_data = []\n",
    "\n",
    "for card in cards:\n",
    "    data = get_tweet_data(card)\n",
    "    if data:\n",
    "        tweet_data.append(data)"
   ]
  },
  {
   "cell_type": "code",
   "execution_count": 12,
   "metadata": {
    "scrolled": true
   },
   "outputs": [
    {
     "data": {
      "text/plain": [
       "'784'"
      ]
     },
     "execution_count": 12,
     "metadata": {},
     "output_type": "execute_result"
    }
   ],
   "source": [
    "card.find_element_by_xpath('.//div[@data-testid=\"retweet\"]').text"
   ]
  },
  {
   "cell_type": "code",
   "execution_count": 13,
   "metadata": {},
   "outputs": [
    {
     "data": {
      "text/plain": [
       "[('Gates Foundation',\n",
       "  '@gatesfoundation',\n",
       "  '2021-05-06T23:39:37.000Z',\n",
       "  'As our CEO \\n@MSuzman\\n says, no barriers should stand in the way of equitable access to vaccines. We are supportive of a narrow intellectual property waiver for COVID-19 vaccines during the pandemic.Statement from Gates Foundation CEO Mark Suzman: No barriers should stand in the way of equitable...\\nThe foundation is supportive of a narrow IP waiver during the pandemic.\\ngatesfoundation.org',\n",
       "  '2,3 mil',\n",
       "  '651',\n",
       "  '2,8 mil'),\n",
       " ('Bill Gates',\n",
       "  '@BillGates',\n",
       "  '2021-05-03T20:30:19.000Z',\n",
       "  '',\n",
       "  '',\n",
       "  '98,3 mil',\n",
       "  '218,5 mil'),\n",
       " ('World Health Organization (WHO)',\n",
       "  '@WHO',\n",
       "  '2021-04-23T15:14:59.000Z',\n",
       "  'The \\n@ACTAccelerator\\n, an unprecedented global alliance to develop & deliver the tests, treatments & vaccines the  needs to fight #COVID19, marks its first anniversary today with a special report on its progress & aims for 2021:\\nhttps://bit.ly/3sFJjLLDe \\nWorld Health Organization (WHO)',\n",
       "  '1,7 mil',\n",
       "  '784',\n",
       "  '3,5 mil')]"
      ]
     },
     "execution_count": 13,
     "metadata": {},
     "output_type": "execute_result"
    }
   ],
   "source": [
    "tweet_data"
   ]
  },
  {
   "cell_type": "code",
   "execution_count": 14,
   "metadata": {},
   "outputs": [],
   "source": [
    "data = []\n",
    "tweet_ids = set()\n",
    "last_position = driver.execute_script(\"return window.pageYOffset;\")\n",
    "scrolling = True\n",
    "\n",
    "while scrolling:\n",
    "    page_cards = driver.find_elements_by_xpath('//div[@data-testid=\"tweet\"]')\n",
    "    for card in page_cards[-15:]:\n",
    "        tweet = get_tweet_data(card)\n",
    "        if tweet:\n",
    "            tweet_id = ''.join(tweet)\n",
    "            if tweet_id not in tweet_ids:\n",
    "                tweet_ids.add(tweet_id)\n",
    "                data.append(tweet)\n",
    "            \n",
    "    scroll_attempt = 0\n",
    "    while True:\n",
    "        # check scroll position\n",
    "        driver.execute_script('window.scrollTo(0, document.body.scrollHeight);')\n",
    "        sleep(2)\n",
    "        curr_position = driver.execute_script(\"return window.pageYOffset;\")\n",
    "        if last_position == 4:\n",
    "            scroll_attempt += 1\n",
    "            \n",
    "            # end of scroll region\n",
    "            if scroll_attempt >= 4:\n",
    "                scrolling = False\n",
    "                break\n",
    "            else:\n",
    "                sleep(2) # attempt another scroll\n",
    "        else:\n",
    "            last_position = 4\n",
    "            break"
   ]
  },
  {
   "cell_type": "code",
   "execution_count": 15,
   "metadata": {},
   "outputs": [
    {
     "data": {
      "text/plain": [
       "('Gates Foundation',\n",
       " '@gatesfoundation',\n",
       " '2021-05-06T23:39:37.000Z',\n",
       " 'As our CEO \\n@MSuzman\\n says, no barriers should stand in the way of equitable access to vaccines. We are supportive of a narrow intellectual property waiver for COVID-19 vaccines during the pandemic.Statement from Gates Foundation CEO Mark Suzman: No barriers should stand in the way of equitable...\\nThe foundation is supportive of a narrow IP waiver during the pandemic.\\ngatesfoundation.org',\n",
       " '2,3 mil',\n",
       " '651',\n",
       " '2,8 mil')"
      ]
     },
     "execution_count": 15,
     "metadata": {},
     "output_type": "execute_result"
    }
   ],
   "source": [
    "data[0]"
   ]
  },
  {
   "cell_type": "code",
   "execution_count": 16,
   "metadata": {},
   "outputs": [],
   "source": [
    "with open('tweets_table.csv', 'w', newline='', encoding='utf-8') as f:\n",
    "    header = ['UserName', 'Handle', 'Timestamp', 'Text', 'Comments', 'Likes', 'Retweets']\n",
    "    writer = csv.writer(f)\n",
    "    writer.writerow(header)\n",
    "    writer.writerows(data)"
   ]
  },
  {
   "cell_type": "code",
   "execution_count": 17,
   "metadata": {},
   "outputs": [],
   "source": [
    "import pandas as pd"
   ]
  },
  {
   "cell_type": "code",
   "execution_count": 18,
   "metadata": {},
   "outputs": [],
   "source": [
    "df = pd.read_csv(\"tweets_table.csv\")"
   ]
  },
  {
   "cell_type": "code",
   "execution_count": 19,
   "metadata": {},
   "outputs": [
    {
     "data": {
      "text/html": [
       "<div>\n",
       "<style scoped>\n",
       "    .dataframe tbody tr th:only-of-type {\n",
       "        vertical-align: middle;\n",
       "    }\n",
       "\n",
       "    .dataframe tbody tr th {\n",
       "        vertical-align: top;\n",
       "    }\n",
       "\n",
       "    .dataframe thead th {\n",
       "        text-align: right;\n",
       "    }\n",
       "</style>\n",
       "<table border=\"1\" class=\"dataframe\">\n",
       "  <thead>\n",
       "    <tr style=\"text-align: right;\">\n",
       "      <th></th>\n",
       "      <th>UserName</th>\n",
       "      <th>Handle</th>\n",
       "      <th>Timestamp</th>\n",
       "      <th>Text</th>\n",
       "      <th>Comments</th>\n",
       "      <th>Likes</th>\n",
       "      <th>Retweets</th>\n",
       "    </tr>\n",
       "  </thead>\n",
       "  <tbody>\n",
       "    <tr>\n",
       "      <th>0</th>\n",
       "      <td>Gates Foundation</td>\n",
       "      <td>@gatesfoundation</td>\n",
       "      <td>2021-05-06T23:39:37.000Z</td>\n",
       "      <td>As our CEO \\n@MSuzman\\n says, no barriers shou...</td>\n",
       "      <td>2,3 mil</td>\n",
       "      <td>651</td>\n",
       "      <td>2,8 mil</td>\n",
       "    </tr>\n",
       "    <tr>\n",
       "      <th>1</th>\n",
       "      <td>Bill Gates</td>\n",
       "      <td>@BillGates</td>\n",
       "      <td>2021-05-03T20:30:19.000Z</td>\n",
       "      <td>NaN</td>\n",
       "      <td>NaN</td>\n",
       "      <td>98,3 mil</td>\n",
       "      <td>218,5 mil</td>\n",
       "    </tr>\n",
       "    <tr>\n",
       "      <th>2</th>\n",
       "      <td>World Health Organization (WHO)</td>\n",
       "      <td>@WHO</td>\n",
       "      <td>2021-04-23T15:14:59.000Z</td>\n",
       "      <td>The \\n@ACTAccelerator\\n, an unprecedented glob...</td>\n",
       "      <td>1,7 mil</td>\n",
       "      <td>784</td>\n",
       "      <td>3,5 mil</td>\n",
       "    </tr>\n",
       "    <tr>\n",
       "      <th>3</th>\n",
       "      <td>Bill Gates</td>\n",
       "      <td>@BillGates</td>\n",
       "      <td>2021-04-06T15:42:53.000Z</td>\n",
       "      <td>The amount of cement China has consumed is a s...</td>\n",
       "      <td>NaN</td>\n",
       "      <td>787</td>\n",
       "      <td>4,2 mil</td>\n",
       "    </tr>\n",
       "    <tr>\n",
       "      <th>4</th>\n",
       "      <td>Bill Gates</td>\n",
       "      <td>@BillGates</td>\n",
       "      <td>2021-04-05T15:20:52.000Z</td>\n",
       "      <td>Who installed the most concrete?\\n\\nCheck your...</td>\n",
       "      <td>1</td>\n",
       "      <td>628</td>\n",
       "      <td>3,6 mil</td>\n",
       "    </tr>\n",
       "    <tr>\n",
       "      <th>5</th>\n",
       "      <td>Bill Gates</td>\n",
       "      <td>@BillGates</td>\n",
       "      <td>2021-04-05T15:25:24.000Z</td>\n",
       "      <td>Cement is responsible for 6% of carbon emissio...</td>\n",
       "      <td>NaN</td>\n",
       "      <td>512</td>\n",
       "      <td>3,3 mil</td>\n",
       "    </tr>\n",
       "    <tr>\n",
       "      <th>6</th>\n",
       "      <td>Bill Gates</td>\n",
       "      <td>@BillGates</td>\n",
       "      <td>2021-04-02T17:03:10.000Z</td>\n",
       "      <td>The best way to prevent new variants from emer...</td>\n",
       "      <td>NaN</td>\n",
       "      <td>1,7 mil</td>\n",
       "      <td>6,1 mil</td>\n",
       "    </tr>\n",
       "    <tr>\n",
       "      <th>7</th>\n",
       "      <td>Bill Gates</td>\n",
       "      <td>@BillGates</td>\n",
       "      <td>2021-04-01T20:38:26.000Z</td>\n",
       "      <td>It's encouraging to see innovation and clean e...</td>\n",
       "      <td>NaN</td>\n",
       "      <td>666</td>\n",
       "      <td>4,3 mil</td>\n",
       "    </tr>\n",
       "    <tr>\n",
       "      <th>8</th>\n",
       "      <td>Bill Gates</td>\n",
       "      <td>@BillGates</td>\n",
       "      <td>2021-03-31T18:47:05.000Z</td>\n",
       "      <td>Here are five things you should know if you wa...</td>\n",
       "      <td>NaN</td>\n",
       "      <td>702</td>\n",
       "      <td>2,9 mil</td>\n",
       "    </tr>\n",
       "    <tr>\n",
       "      <th>9</th>\n",
       "      <td>IFPRI</td>\n",
       "      <td>@IFPRI</td>\n",
       "      <td>2021-03-11T16:30:10.000Z</td>\n",
       "      <td>From #climateadaptation to #genderequality, d...</td>\n",
       "      <td>260</td>\n",
       "      <td>120</td>\n",
       "      <td>639</td>\n",
       "    </tr>\n",
       "    <tr>\n",
       "      <th>10</th>\n",
       "      <td>Bill Gates</td>\n",
       "      <td>@BillGates</td>\n",
       "      <td>2021-03-29T16:30:37.000Z</td>\n",
       "      <td>The technological transformation we need to ad...</td>\n",
       "      <td>NaN</td>\n",
       "      <td>890</td>\n",
       "      <td>4,7 mil</td>\n",
       "    </tr>\n",
       "  </tbody>\n",
       "</table>\n",
       "</div>"
      ],
      "text/plain": [
       "                           UserName            Handle  \\\n",
       "0                  Gates Foundation  @gatesfoundation   \n",
       "1                        Bill Gates        @BillGates   \n",
       "2   World Health Organization (WHO)              @WHO   \n",
       "3                        Bill Gates        @BillGates   \n",
       "4                        Bill Gates        @BillGates   \n",
       "5                        Bill Gates        @BillGates   \n",
       "6                        Bill Gates        @BillGates   \n",
       "7                        Bill Gates        @BillGates   \n",
       "8                        Bill Gates        @BillGates   \n",
       "9                             IFPRI            @IFPRI   \n",
       "10                       Bill Gates        @BillGates   \n",
       "\n",
       "                   Timestamp  \\\n",
       "0   2021-05-06T23:39:37.000Z   \n",
       "1   2021-05-03T20:30:19.000Z   \n",
       "2   2021-04-23T15:14:59.000Z   \n",
       "3   2021-04-06T15:42:53.000Z   \n",
       "4   2021-04-05T15:20:52.000Z   \n",
       "5   2021-04-05T15:25:24.000Z   \n",
       "6   2021-04-02T17:03:10.000Z   \n",
       "7   2021-04-01T20:38:26.000Z   \n",
       "8   2021-03-31T18:47:05.000Z   \n",
       "9   2021-03-11T16:30:10.000Z   \n",
       "10  2021-03-29T16:30:37.000Z   \n",
       "\n",
       "                                                 Text Comments     Likes  \\\n",
       "0   As our CEO \\n@MSuzman\\n says, no barriers shou...  2,3 mil       651   \n",
       "1                                                 NaN      NaN  98,3 mil   \n",
       "2   The \\n@ACTAccelerator\\n, an unprecedented glob...  1,7 mil       784   \n",
       "3   The amount of cement China has consumed is a s...      NaN       787   \n",
       "4   Who installed the most concrete?\\n\\nCheck your...        1       628   \n",
       "5   Cement is responsible for 6% of carbon emissio...      NaN       512   \n",
       "6   The best way to prevent new variants from emer...      NaN   1,7 mil   \n",
       "7   It's encouraging to see innovation and clean e...      NaN       666   \n",
       "8   Here are five things you should know if you wa...      NaN       702   \n",
       "9    From #climateadaptation to #genderequality, d...      260       120   \n",
       "10  The technological transformation we need to ad...      NaN       890   \n",
       "\n",
       "     Retweets  \n",
       "0     2,8 mil  \n",
       "1   218,5 mil  \n",
       "2     3,5 mil  \n",
       "3     4,2 mil  \n",
       "4     3,6 mil  \n",
       "5     3,3 mil  \n",
       "6     6,1 mil  \n",
       "7     4,3 mil  \n",
       "8     2,9 mil  \n",
       "9         639  \n",
       "10    4,7 mil  "
      ]
     },
     "execution_count": 19,
     "metadata": {},
     "output_type": "execute_result"
    }
   ],
   "source": [
    "df.head(100)"
   ]
  }
 ],
 "metadata": {
  "kernelspec": {
   "display_name": "Python 3",
   "language": "python",
   "name": "python3"
  },
  "language_info": {
   "codemirror_mode": {
    "name": "ipython",
    "version": 3
   },
   "file_extension": ".py",
   "mimetype": "text/x-python",
   "name": "python",
   "nbconvert_exporter": "python",
   "pygments_lexer": "ipython3",
   "version": "3.8.5"
  }
 },
 "nbformat": 4,
 "nbformat_minor": 4
}
